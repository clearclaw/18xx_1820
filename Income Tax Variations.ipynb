{
 "cells": [
  {
   "cell_type": "code",
   "execution_count": 1,
   "metadata": {
    "collapsed": true
   },
   "outputs": [],
   "source": [
    "import random"
   ]
  },
  {
   "cell_type": "code",
   "execution_count": 12,
   "metadata": {
    "collapsed": true
   },
   "outputs": [],
   "source": [
    "start = 10\n",
    "choices = [10, 10, 10, 20, 20, 30]"
   ]
  },
  {
   "cell_type": "code",
   "execution_count": 25,
   "metadata": {
    "collapsed": false
   },
   "outputs": [],
   "source": [
    "def sample ():\n",
    "    rc = [10, 20]\n",
    "    cur = start\n",
    "    for i in range (4):\n",
    "        if i < 1:\n",
    "            sign = 1\n",
    "        else:\n",
    "            sign = random.choice ([1, -1])\n",
    "            if cur >= 50:\n",
    "                sign = -1\n",
    "        step = random.choice (choices) * sign\n",
    "        cur += step\n",
    "        if cur < start:\n",
    "            cur = start\n",
    "        if cur > 60:\n",
    "            cur = 60\n",
    "        rc.append (cur)\n",
    "    return rc"
   ]
  },
  {
   "cell_type": "code",
   "execution_count": 26,
   "metadata": {
    "collapsed": false
   },
   "outputs": [
    {
     "name": "stdout",
     "output_type": "stream",
     "text": [
      "[10, 20, 20, 30, 40, 60]\n",
      "[10, 20, 20, 10, 10, 30]\n",
      "[10, 20, 40, 50, 20, 10]\n",
      "[10, 20, 20, 10, 30, 40]\n",
      "[10, 20, 20, 10, 10, 20]\n",
      "[10, 20, 20, 30, 20, 10]\n",
      "[10, 20, 40, 60, 50, 40]\n",
      "[10, 20, 20, 10, 10, 30]\n",
      "[10, 20, 20, 10, 20, 30]\n",
      "[10, 20, 30, 60, 40, 20]\n",
      "[10, 20, 20, 40, 50, 30]\n",
      "[10, 20, 30, 10, 10, 30]\n",
      "[10, 20, 20, 30, 50, 30]\n",
      "[10, 20, 30, 10, 20, 50]\n",
      "[10, 20, 30, 20, 30, 20]\n",
      "[10, 20, 30, 40, 60, 40]\n",
      "[10, 20, 20, 30, 10, 10]\n",
      "[10, 20, 40, 30, 20, 10]\n",
      "[10, 20, 40, 20, 30, 50]\n",
      "[10, 20, 30, 40, 60, 50]\n"
     ]
    }
   ],
   "source": [
    "for i in range (20):\n",
    "    print sample ()"
   ]
  },
  {
   "cell_type": "code",
   "execution_count": null,
   "metadata": {
    "collapsed": true
   },
   "outputs": [],
   "source": []
  }
 ],
 "metadata": {
  "kernelspec": {
   "display_name": "Python 2",
   "language": "python",
   "name": "python2"
  },
  "language_info": {
   "codemirror_mode": {
    "name": "ipython",
    "version": 2
   },
   "file_extension": ".py",
   "mimetype": "text/x-python",
   "name": "python",
   "nbconvert_exporter": "python",
   "pygments_lexer": "ipython2",
   "version": "2.7.10"
  }
 },
 "nbformat": 4,
 "nbformat_minor": 0
}
